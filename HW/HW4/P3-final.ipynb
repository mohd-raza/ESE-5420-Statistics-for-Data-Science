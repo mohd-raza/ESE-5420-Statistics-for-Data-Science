{
 "cells": [
  {
   "cell_type": "markdown",
   "metadata": {},
   "source": [
    "## Problem 3: Simple Linear Regression"
   ]
  },
  {
   "cell_type": "markdown",
   "metadata": {},
   "source": [
    "In this question, you will implement simple linear regression from scratch. The dataset you will work with is called the Boston data set. You can find more information about the data set here: https://www.cs.toronto.edu/~delve/data/boston/bostonDetail.html \n",
    "\n",
    "You will use the pandas library to load the csv file into a dataframe: \n",
    "\n"
   ]
  },
  {
   "cell_type": "code",
   "execution_count": null,
   "metadata": {},
   "outputs": [],
   "source": [
    "import numpy as np\n",
    "import pandas as pd\n",
    "import matplotlib.pyplot as plt\n",
    "%matplotlib inline"
   ]
  },
  {
   "cell_type": "code",
   "execution_count": null,
   "metadata": {},
   "outputs": [],
   "source": [
    "# read the csv file and load into a pandas dataframe \n",
    "# make sure Boston.csv is in the same file path as this notebook\n",
    "boston = pd.read_csv('Boston.csv')"
   ]
  },
  {
   "cell_type": "code",
   "execution_count": null,
   "metadata": {},
   "outputs": [],
   "source": [
    "# read the above link to learn more about what each of the columns indicate \n",
    "boston.head()"
   ]
  },
  {
   "cell_type": "markdown",
   "metadata": {},
   "source": [
    "Simple linear regression builds a linear relationship between an input variable $X$ and an output variable $Y$. We can define this linear relationship as follows: \n",
    "\n",
    "$$Y = \\beta_0 + \\beta_1X$$\n",
    "\n",
    "#### Objective: find the linear relationship between the proportion of non-retail business acres per town (indus) and the full-value property-tax rate per 10,000 dollars (tax)\n",
    "\n",
    "So our equation will look like:\n",
    "\n",
    "$$TAX = \\beta_0 + \\beta_1INDUS$$\n",
    "\n",
    "Here, the coefficient $\\beta_0$ is the intercept, and $\\beta_1$ is the scale factor or slope. How do we determine the values of these coefficients? \n",
    "\n",
    "There are several different methods to do so, but we will focus on the Ordinary Least Squares (OLS) method. This method minimizes the sum of the squares of the differences between the observed dependent variable and those predicted by the linear function. \n",
    "\n",
    "Recall that a residual is the difference between any data point and the line of regression. When we develop a regression model, we want the sum of the residuals squared to be minimized, indicating that the model is a close fit to the data. \n",
    "\n",
    "$$RSS = \\sum_{i =1}^{n} (y_i - f(x_i))^2$$\n",
    "$$= \\sum_{i =1}^{n} (y_i - (\\beta_0 + \\beta_1x_i))^2$$\n",
    "\n",
    "This is the objective function we minimize to find $\\beta_0$ and $\\beta_1$. "
   ]
  },
  {
   "cell_type": "code",
   "execution_count": null,
   "metadata": {},
   "outputs": [],
   "source": [
    "# set X to 'indus' and y to 'tax'\n",
    "X = boston['indus']\n",
    "y = boston['tax']"
   ]
  },
  {
   "cell_type": "markdown",
   "metadata": {},
   "source": [
    "First, visualize the data by plotting X and y using matplotlib. Be sure to include a title and axis labels. "
   ]
  },
  {
   "cell_type": "code",
   "execution_count": null,
   "metadata": {},
   "outputs": [],
   "source": [
    "# TODO: display plot \n",
    "\n",
    "# TODO: labels and title\n"
   ]
  },
  {
   "cell_type": "markdown",
   "metadata": {},
   "source": [
    "TODO: What do you notice about the relationship between the variables? "
   ]
  },
  {
   "cell_type": "markdown",
   "metadata": {},
   "source": [
    "A:"
   ]
  },
  {
   "cell_type": "markdown",
   "metadata": {},
   "source": [
    "Next, find the coefficients. The values for $\\beta_0$ and $\\beta_1$ are given by the following equations, where $n$ is the total number of values. This derivation was done in class. \n",
    "\n",
    "\n",
    "$$\\beta_1 = \\frac{\\sum_{i=1}^{n}(x_i - \\bar{x})(y_i - \\bar{y})}{\\sum_{i=1}^{n} (x_i - \\bar{x})^2}$$\n",
    "\n",
    "\n",
    "$$\\beta_0 = \\bar{y} - \\beta_1\\bar{x}$$"
   ]
  },
  {
   "cell_type": "code",
   "execution_count": null,
   "metadata": {},
   "outputs": [],
   "source": [
    "# TODO: implement function \n",
    "def get_coeffs(X, y):\n",
    "    '''\n",
    "    Params:\n",
    "        X: the X vector\n",
    "        y: the y vector\n",
    "    Returns:\n",
    "        a tuple (b0, b1)\n",
    "    '''\n",
    "    raise NotImplementedError"
   ]
  },
  {
   "cell_type": "code",
   "execution_count": null,
   "metadata": {},
   "outputs": [],
   "source": [
    "# run cell to call function and display the regression line\n",
    "# the values are rounded for display convenience \n",
    "b0, b1 = get_coeffs(X, y)\n",
    "print(\"Regression line: TAX = \" + str(round(b0)) + \" + \" + str(round(b1)) +\"*INDUS\")"
   ]
  },
  {
   "cell_type": "markdown",
   "metadata": {},
   "source": [
    "Plot the regression line overlayed on the real y-values. "
   ]
  },
  {
   "cell_type": "code",
   "execution_count": null,
   "metadata": {},
   "outputs": [],
   "source": [
    "# TODO: plot y-values \n",
    "\n",
    "\n",
    "# TODO: plot regression line\n",
    "\n",
    "\n",
    "# TODO: labels and title"
   ]
  },
  {
   "cell_type": "markdown",
   "metadata": {},
   "source": [
    "The line appears to fit the data, but first, let us find the RSS to evaluate this model. The RSS is used to measure the amount of variance in the data set that is not explained by the regression model. Recall that\n",
    "$$RSS = \\sum_{i =1}^{n} (y_i - (\\beta_0 + \\beta_1x_i))^2$$"
   ]
  },
  {
   "cell_type": "code",
   "execution_count": null,
   "metadata": {},
   "outputs": [],
   "source": [
    "# TODO: implement function\n",
    "def get_RSS(b0, b1, X, y):\n",
    "    '''\n",
    "    Params: \n",
    "        b0: beta 0\n",
    "        b1: beta 1\n",
    "        X: X vector\n",
    "        y: y vector\n",
    "    Returns:\n",
    "        residual sum of squares (RSS) \n",
    "    '''\n",
    "    raise NotImplementedError"
   ]
  },
  {
   "cell_type": "code",
   "execution_count": null,
   "metadata": {},
   "outputs": [],
   "source": [
    "# run this cell to print RSS\n",
    "print(\"RSS:\", get_RSS(b0, b1, X, y))"
   ]
  },
  {
   "cell_type": "markdown",
   "metadata": {},
   "source": [
    "We can also evaluate the model through the Root Mean Squared Error (RMSE) and the Coefficient of Determination ($R^2$ score). \n",
    "- The RMSE is similar to the RSS, but provides a value with more interpretable units -- in our case, tax rate per 10,000 dollars.  \n",
    "- The $R^2$ value represents the proportion of the variance for the dependent variable that is explained by the independent variable. \n",
    "\n",
    "Use the following equations to find the RMSE and $R^2$ score:\n",
    "\n",
    "$$ RMSE = \\sqrt(\\sum_{i=1}^{n} \\frac{1}{n} (\\hat{y_i} - y_i)^2 )$$\n",
    "\n",
    "$$ R^2 = 1 - \\frac{SS_r}{SS_t} $$ where\n",
    "\n",
    "$$SS_t = \\sum_{i = 1}^{n} (y_i - \\bar{y})^2$$\n",
    "\n",
    "and\n",
    "\n",
    "$$SS_r = \\sum_{i=1}^{n} (y_i - \\hat{y_i})^2$$\n",
    "\n"
   ]
  },
  {
   "cell_type": "code",
   "execution_count": null,
   "metadata": {},
   "outputs": [],
   "source": [
    "# TODO: implement function\n",
    "def get_RMSE(b0, b1, X, y):\n",
    "    '''\n",
    "    Params: \n",
    "        b0: beta 0\n",
    "        b1: beta 1\n",
    "        X: X vectore\n",
    "        y: y vector\n",
    "    Returns:\n",
    "        rmse \n",
    "    '''\n",
    "    raise NotImplementedError"
   ]
  },
  {
   "cell_type": "code",
   "execution_count": null,
   "metadata": {},
   "outputs": [],
   "source": [
    "# run cell to print RMSE\n",
    "print(\"RMSE: \", get_RMSE(b0, b1, X, y))"
   ]
  },
  {
   "cell_type": "code",
   "execution_count": null,
   "metadata": {},
   "outputs": [],
   "source": [
    "# TODO: implement function\n",
    "def get_R2(b0, b1, X, y):\n",
    "    '''\n",
    "    Params: \n",
    "        b0: beta 0\n",
    "        b1: beta 1\n",
    "        X: X vector\n",
    "        y: y vector\n",
    "    Returns:\n",
    "        r2 score\n",
    "    '''\n",
    "    raise NotImplementedError"
   ]
  },
  {
   "cell_type": "code",
   "execution_count": null,
   "metadata": {},
   "outputs": [],
   "source": [
    "# run cell to print RMSE\n",
    "print(\"R2: \", get_R2(b0, b1, X, y))"
   ]
  },
  {
   "cell_type": "markdown",
   "metadata": {},
   "source": [
    "TODO: Analyze what the above $R^2$ score indicates about the model. "
   ]
  },
  {
   "cell_type": "markdown",
   "metadata": {},
   "source": [
    "A: "
   ]
  },
  {
   "cell_type": "markdown",
   "metadata": {},
   "source": [
    "Now, we will compare the above results with the results from using scikit-learn, a machine learning library in Python. Read the documentation (https://scikit-learn.org/stable/modules/generated/sklearn.linear_model.LinearRegression.html) to learn how to use this library. Return the $R^2$ score and RMSE. "
   ]
  },
  {
   "cell_type": "code",
   "execution_count": null,
   "metadata": {},
   "outputs": [],
   "source": [
    "# TODO: scikit learn function\n",
    "from sklearn.linear_model import LinearRegression\n",
    "from sklearn.metrics import mean_squared_error\n",
    "\n",
    "def linear_regression_SKL(X, y):\n",
    "    '''\n",
    "    Params:\n",
    "        X: X vector\n",
    "        y: y vector\n",
    "    Returns:\n",
    "        rmse and r2 as a tuple\n",
    "    '''\n",
    "    raise NotImplementedError"
   ]
  },
  {
   "cell_type": "code",
   "execution_count": null,
   "metadata": {},
   "outputs": [],
   "source": [
    "# run this cell to print results from SKL LR\n",
    "linear_regression_SKL(X, y)"
   ]
  },
  {
   "cell_type": "markdown",
   "metadata": {},
   "source": [
    "TODO: Analyze the results and compare the RMSE and $R^2$ to the previous method."
   ]
  },
  {
   "cell_type": "markdown",
   "metadata": {},
   "source": [
    "A:"
   ]
  }
 ],
 "metadata": {
  "kernelspec": {
   "display_name": "Python 3",
   "language": "python",
   "name": "python3"
  },
  "language_info": {
   "codemirror_mode": {
    "name": "ipython",
    "version": 3
   },
   "file_extension": ".py",
   "mimetype": "text/x-python",
   "name": "python",
   "nbconvert_exporter": "python",
   "pygments_lexer": "ipython3",
   "version": "3.7.1"
  }
 },
 "nbformat": 4,
 "nbformat_minor": 2
}
